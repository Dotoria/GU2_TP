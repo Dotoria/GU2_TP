{
 "cells": [
  {
   "cell_type": "code",
   "execution_count": 18,
   "metadata": {},
   "outputs": [],
   "source": [
    "import numpy as np \n",
    "import matplotlib.pyplot as plt\n",
    "from astropy.io import fits"
   ]
  },
  {
   "cell_type": "code",
   "execution_count": 19,
   "metadata": {},
   "outputs": [],
   "source": [
    "dat=fits.open('hlsp_candels_hst_wfc3_goodsn-barro19_multi_v1_emission-line-grism-g141-cat.fits')"
   ]
  },
  {
   "cell_type": "code",
   "execution_count": 22,
   "metadata": {},
   "outputs": [
    {
     "name": "stdout",
     "output_type": "stream",
     "text": [
      "Filename: hlsp_candels_hst_wfc3_goodsn-barro19_multi_v1_emission-line-grism-g141-cat.fits\n",
      "No.    Name      Ver    Type      Cards   Dimensions   Format\n",
      "  0  PRIMARY       1 PrimaryHDU       4   ()      \n",
      "  1                1 BinTableHDU    214   35445R x 103C   [K, 22A, D, D, D, D, D, D, D, D, D, D, D, D, D, D, D, D, D, D, D, D, D, D, D, D, D, D, D, D, D, D, D, D, D, D, D, D, D, D, D, D, D, D, D, D, D, D, D, D, D, D, D, D, D, D, D, D, D, D, D, D, D, D, D, D, D, D, D, D, D, D, D, D, D, D, D, D, D, D, D, D, D, D, D, D, D, D, D, D, D, D, D, D, D, D, D, D, D, D, D, D, D]   \n"
     ]
    }
   ],
   "source": [
    "dat.info()"
   ]
  },
  {
   "cell_type": "code",
   "execution_count": 21,
   "metadata": {},
   "outputs": [
    {
     "name": "stderr",
     "output_type": "stream",
     "text": [
      "<frozen importlib._bootstrap>:228: RuntimeWarning: numpy.ndarray size changed, may indicate binary incompatibility. Expected 80 from C header, got 88 from PyObject\n"
     ]
    },
    {
     "data": {
      "text/plain": [
       "XTENSION= 'BINTABLE'           / binary table extension                         \n",
       "BITPIX  =                    8 / array data type                                \n",
       "NAXIS   =                    2 / number of array dimensions                     \n",
       "NAXIS1  =                  838 / length of dimension 1                          \n",
       "NAXIS2  =                35445 / length of dimension 2                          \n",
       "PCOUNT  =                    0 / number of group parameters                     \n",
       "GCOUNT  =                    1 / number of groups                               \n",
       "TFIELDS =                  103 / number of table fields                         \n",
       "TTYPE1  = 'ID      '                                                            \n",
       "TFORM1  = 'K       '                                                            \n",
       "TTYPE2  = 'grism_id'                                                            \n",
       "TFORM2  = '22A     '                                                            \n",
       "TTYPE3  = 'h_mag   '                                                            \n",
       "TFORM3  = 'D       '                                                            \n",
       "TTYPE4  = 'z_max_grism'                                                         \n",
       "TFORM4  = 'D       '                                                            \n",
       "TTYPE5  = 's0      '                                                            \n",
       "TFORM5  = 'D       '                                                            \n",
       "TTYPE6  = 's0_err  '                                                            \n",
       "TFORM6  = 'D       '                                                            \n",
       "TTYPE7  = 's1      '                                                            \n",
       "TFORM7  = 'D       '                                                            \n",
       "TTYPE8  = 's1_err  '                                                            \n",
       "TFORM8  = 'D       '                                                            \n",
       "TTYPE9  = 'Lya_FLUX'                                                            \n",
       "TFORM9  = 'D       '                                                            \n",
       "TTYPE10 = 'Lya_FLUX_ERR'                                                        \n",
       "TFORM10 = 'D       '                                                            \n",
       "TTYPE11 = 'Lya_SCALE'                                                           \n",
       "TFORM11 = 'D       '                                                            \n",
       "TTYPE12 = 'Lya_EQW '                                                            \n",
       "TFORM12 = 'D       '                                                            \n",
       "TTYPE13 = 'Lya_EQW_ERR'                                                         \n",
       "TFORM13 = 'D       '                                                            \n",
       "TTYPE14 = 'CIV_FLUX'                                                            \n",
       "TFORM14 = 'D       '                                                            \n",
       "TTYPE15 = 'CIV_FLUX_ERR'                                                        \n",
       "TFORM15 = 'D       '                                                            \n",
       "TTYPE16 = 'CIV_SCALE'                                                           \n",
       "TFORM16 = 'D       '                                                            \n",
       "TTYPE17 = 'CIV_EQW '                                                            \n",
       "TFORM17 = 'D       '                                                            \n",
       "TTYPE18 = 'CIV_EQW_ERR'                                                         \n",
       "TFORM18 = 'D       '                                                            \n",
       "TTYPE19 = 'MgII_FLUX'                                                           \n",
       "TFORM19 = 'D       '                                                            \n",
       "TTYPE20 = 'MgII_FLUX_ERR'                                                       \n",
       "TFORM20 = 'D       '                                                            \n",
       "TTYPE21 = 'MgII_SCALE'                                                          \n",
       "TFORM21 = 'D       '                                                            \n",
       "TTYPE22 = 'MgII_EQW'                                                            \n",
       "TFORM22 = 'D       '                                                            \n",
       "TTYPE23 = 'MgII_EQW_ERR'                                                        \n",
       "TFORM23 = 'D       '                                                            \n",
       "TTYPE24 = 'OII_FLUX'                                                            \n",
       "TFORM24 = 'D       '                                                            \n",
       "TTYPE25 = 'OII_FLUX_ERR'                                                        \n",
       "TFORM25 = 'D       '                                                            \n",
       "TTYPE26 = 'OII_SCALE'                                                           \n",
       "TFORM26 = 'D       '                                                            \n",
       "TTYPE27 = 'OII_EQW '                                                            \n",
       "TFORM27 = 'D       '                                                            \n",
       "TTYPE28 = 'OII_EQW_ERR'                                                         \n",
       "TFORM28 = 'D       '                                                            \n",
       "TTYPE29 = 'Hd_FLUX '                                                            \n",
       "TFORM29 = 'D       '                                                            \n",
       "TTYPE30 = 'Hd_FLUX_ERR'                                                         \n",
       "TFORM30 = 'D       '                                                            \n",
       "TTYPE31 = 'Hd_SCALE'                                                            \n",
       "TFORM31 = 'D       '                                                            \n",
       "TTYPE32 = 'Hd_EQW  '                                                            \n",
       "TFORM32 = 'D       '                                                            \n",
       "TTYPE33 = 'Hd_EQW_ERR'                                                          \n",
       "TFORM33 = 'D       '                                                            \n",
       "TTYPE34 = 'Hg_FLUX '                                                            \n",
       "TFORM34 = 'D       '                                                            \n",
       "TTYPE35 = 'Hg_FLUX_ERR'                                                         \n",
       "TFORM35 = 'D       '                                                            \n",
       "TTYPE36 = 'Hg_SCALE'                                                            \n",
       "TFORM36 = 'D       '                                                            \n",
       "TTYPE37 = 'Hg_EQW  '                                                            \n",
       "TFORM37 = 'D       '                                                            \n",
       "TTYPE38 = 'Hg_EQW_ERR'                                                          \n",
       "TFORM38 = 'D       '                                                            \n",
       "TTYPE39 = 'OIIIx_FLUX'                                                          \n",
       "TFORM39 = 'D       '                                                            \n",
       "TTYPE40 = 'OIIIx_FLUX_ERR'                                                      \n",
       "TFORM40 = 'D       '                                                            \n",
       "TTYPE41 = 'OIIIx_SCALE'                                                         \n",
       "TFORM41 = 'D       '                                                            \n",
       "TTYPE42 = 'OIIIx_EQW'                                                           \n",
       "TFORM42 = 'D       '                                                            \n",
       "TTYPE43 = 'OIIIx_EQW_ERR'                                                       \n",
       "TFORM43 = 'D       '                                                            \n",
       "TTYPE44 = 'HeII_FLUX'                                                           \n",
       "TFORM44 = 'D       '                                                            \n",
       "TTYPE45 = 'HeII_FLUX_ERR'                                                       \n",
       "TFORM45 = 'D       '                                                            \n",
       "TTYPE46 = 'HeII_SCALE'                                                          \n",
       "TFORM46 = 'D       '                                                            \n",
       "TTYPE47 = 'HeII_EQW'                                                            \n",
       "TFORM47 = 'D       '                                                            \n",
       "TTYPE48 = 'HeII_EQW_ERR'                                                        \n",
       "TFORM48 = 'D       '                                                            \n",
       "TTYPE49 = 'Hb_FLUX '                                                            \n",
       "TFORM49 = 'D       '                                                            \n",
       "TTYPE50 = 'Hb_FLUX_ERR'                                                         \n",
       "TFORM50 = 'D       '                                                            \n",
       "TTYPE51 = 'Hb_SCALE'                                                            \n",
       "TFORM51 = 'D       '                                                            \n",
       "TTYPE52 = 'Hb_EQW  '                                                            \n",
       "TFORM52 = 'D       '                                                            \n",
       "TTYPE53 = 'Hb_EQW_ERR'                                                          \n",
       "TFORM53 = 'D       '                                                            \n",
       "TTYPE54 = 'OIII_FLUX'                                                           \n",
       "TFORM54 = 'D       '                                                            \n",
       "TTYPE55 = 'OIII_FLUX_ERR'                                                       \n",
       "TFORM55 = 'D       '                                                            \n",
       "TTYPE56 = 'OIII_SCALE'                                                          \n",
       "TFORM56 = 'D       '                                                            \n",
       "TTYPE57 = 'OIII_EQW'                                                            \n",
       "TFORM57 = 'D       '                                                            \n",
       "TTYPE58 = 'OIII_EQW_ERR'                                                        \n",
       "TFORM58 = 'D       '                                                            \n",
       "TTYPE59 = 'Ha_FLUX '                                                            \n",
       "TFORM59 = 'D       '                                                            \n",
       "TTYPE60 = 'Ha_FLUX_ERR'                                                         \n",
       "TFORM60 = 'D       '                                                            \n",
       "TTYPE61 = 'Ha_SCALE'                                                            \n",
       "TFORM61 = 'D       '                                                            \n",
       "TTYPE62 = 'Ha_EQW  '                                                            \n",
       "TFORM62 = 'D       '                                                            \n",
       "TTYPE63 = 'Ha_EQW_ERR'                                                          \n",
       "TFORM63 = 'D       '                                                            \n",
       "TTYPE64 = 'SII_FLUX'                                                            \n",
       "TFORM64 = 'D       '                                                            \n",
       "TTYPE65 = 'SII_FLUX_ERR'                                                        \n",
       "TFORM65 = 'D       '                                                            \n",
       "TTYPE66 = 'SII_SCALE'                                                           \n",
       "TFORM66 = 'D       '                                                            \n",
       "TTYPE67 = 'SII_EQW '                                                            \n",
       "TFORM67 = 'D       '                                                            \n",
       "TTYPE68 = 'SII_EQW_ERR'                                                         \n",
       "TFORM68 = 'D       '                                                            \n",
       "TTYPE69 = 'SIII_FLUX'                                                           \n",
       "TFORM69 = 'D       '                                                            \n",
       "TTYPE70 = 'SIII_FLUX_ERR'                                                       \n",
       "TFORM70 = 'D       '                                                            \n",
       "TTYPE71 = 'SIII_SCALE'                                                          \n",
       "TFORM71 = 'D       '                                                            \n",
       "TTYPE72 = 'SIII_EQW'                                                            \n",
       "TFORM72 = 'D       '                                                            \n",
       "TTYPE73 = 'SIII_EQW_ERR'                                                        \n",
       "TFORM73 = 'D       '                                                            \n",
       "TTYPE74 = 'HeI_FLUX'                                                            \n",
       "TFORM74 = 'D       '                                                            \n",
       "TTYPE75 = 'HeI_FLUX_ERR'                                                        \n",
       "TFORM75 = 'D       '                                                            \n",
       "TTYPE76 = 'HeI_SCALE'                                                           \n",
       "TFORM76 = 'D       '                                                            \n",
       "TTYPE77 = 'HeI_EQW '                                                            \n",
       "TFORM77 = 'D       '                                                            \n",
       "TTYPE78 = 'HeI_EQW_ERR'                                                         \n",
       "TFORM78 = 'D       '                                                            \n",
       "TTYPE79 = 'HeIb_FLUX'                                                           \n",
       "TFORM79 = 'D       '                                                            \n",
       "TTYPE80 = 'HeIb_FLUX_ERR'                                                       \n",
       "TFORM80 = 'D       '                                                            \n",
       "TTYPE81 = 'HeIb_SCALE'                                                          \n",
       "TFORM81 = 'D       '                                                            \n",
       "TTYPE82 = 'HeIb_EQW'                                                            \n",
       "TFORM82 = 'D       '                                                            \n",
       "TTYPE83 = 'HeIb_EQW_ERR'                                                        \n",
       "TFORM83 = 'D       '                                                            \n",
       "TTYPE84 = 'NeIII_FLUX'                                                          \n",
       "TFORM84 = 'D       '                                                            \n",
       "TTYPE85 = 'NeIII_FLUX_ERR'                                                      \n",
       "TFORM85 = 'D       '                                                            \n",
       "TTYPE86 = 'NeIII_SCALE'                                                         \n",
       "TFORM86 = 'D       '                                                            \n",
       "TTYPE87 = 'NeIII_EQW'                                                           \n",
       "TFORM87 = 'D       '                                                            \n",
       "TTYPE88 = 'NeIII_EQW_ERR'                                                       \n",
       "TFORM88 = 'D       '                                                            \n",
       "TTYPE89 = 'NeV_FLUX'                                                            \n",
       "TFORM89 = 'D       '                                                            \n",
       "TTYPE90 = 'NeV_FLUX_ERR'                                                        \n",
       "TFORM90 = 'D       '                                                            \n",
       "TTYPE91 = 'NeV_SCALE'                                                           \n",
       "TFORM91 = 'D       '                                                            \n",
       "TTYPE92 = 'NeV_EQW '                                                            \n",
       "TFORM92 = 'D       '                                                            \n",
       "TTYPE93 = 'NeV_EQW_ERR'                                                         \n",
       "TFORM93 = 'D       '                                                            \n",
       "TTYPE94 = 'NeVI_FLUX'                                                           \n",
       "TFORM94 = 'D       '                                                            \n",
       "TTYPE95 = 'NeVI_FLUX_ERR'                                                       \n",
       "TFORM95 = 'D       '                                                            \n",
       "TTYPE96 = 'NeVI_SCALE'                                                          \n",
       "TFORM96 = 'D       '                                                            \n",
       "TTYPE97 = 'NeVI_EQW'                                                            \n",
       "TFORM97 = 'D       '                                                            \n",
       "TTYPE98 = 'NeVI_EQW_ERR'                                                        \n",
       "TFORM98 = 'D       '                                                            \n",
       "TTYPE99 = 'OI_FLUX '                                                            \n",
       "TFORM99 = 'D       '                                                            \n",
       "TTYPE100= 'OI_FLUX_ERR'                                                         \n",
       "TFORM100= 'D       '                                                            \n",
       "TTYPE101= 'OI_SCALE'                                                            \n",
       "TFORM101= 'D       '                                                            \n",
       "TTYPE102= 'OI_EQW  '                                                            \n",
       "TFORM102= 'D       '                                                            \n",
       "TTYPE103= 'OI_EQW_ERR'                                                          \n",
       "TFORM103= 'D       '                                                            "
      ]
     },
     "execution_count": 21,
     "metadata": {},
     "output_type": "execute_result"
    }
   ],
   "source": [
    "dat[1].header"
   ]
  },
  {
   "cell_type": "code",
   "execution_count": 23,
   "metadata": {},
   "outputs": [],
   "source": [
    "data=dat[1].data"
   ]
  },
  {
   "cell_type": "code",
   "execution_count": 25,
   "metadata": {},
   "outputs": [
    {
     "data": {
      "text/plain": [
       "array([-99., -99., -99., ..., -99., -99., -99.])"
      ]
     },
     "execution_count": 25,
     "metadata": {},
     "output_type": "execute_result"
    }
   ],
   "source": [
    "data['Lya_FLUX']"
   ]
  },
  {
   "cell_type": "code",
   "execution_count": 103,
   "metadata": {},
   "outputs": [],
   "source": [
    "OIII=data['OIII_EQW']\n",
    "Halpha=data['Ha_EQW']\n",
    "Hbeta=data['Hb_EQW']\n",
    "SII=data['SII_EQW']\n",
    "OI=data['OI_EQW']\n",
    "Hd=data['Hd_EQW']"
   ]
  },
  {
   "cell_type": "code",
   "execution_count": 109,
   "metadata": {},
   "outputs": [],
   "source": [
    "samp=np.where((OIII>0)&(Halpha>0)&(Hbeta>0)&(SII>0))[0]\n",
    "samp2=np.where((OIII>0)&(Halpha>0)&(Hbeta>0)&(OI>0))[0]\n",
    "samp3=np.where((OIII>0)&(Halpha>0)&(Hbeta>0)&(OI>0)&(Hd>0))[0]"
   ]
  },
  {
   "cell_type": "code",
   "execution_count": 110,
   "metadata": {},
   "outputs": [
    {
     "data": {
      "text/plain": [
       "(396, 326, 6)"
      ]
     },
     "execution_count": 110,
     "metadata": {},
     "output_type": "execute_result"
    }
   ],
   "source": [
    "len(samp),len(samp2),len(samp3)"
   ]
  },
  {
   "cell_type": "code",
   "execution_count": 50,
   "metadata": {},
   "outputs": [
    {
     "data": {
      "text/plain": [
       "array([3.25300e+01, 7.37900e+01, 2.25000e+01, 4.01900e+01, 4.17600e+01,\n",
       "       1.79720e+02, 2.21400e+01, 4.12680e+02, 9.32440e+02, 4.39430e+02,\n",
       "       8.66200e+02, 1.19360e+02, 1.54400e+01, 1.06410e+03, 3.10500e+01,\n",
       "       2.05730e+02, 3.63220e+02, 8.40600e+01, 2.43520e+02, 3.99400e+02,\n",
       "       4.75800e+01, 3.16000e+01, 1.01500e+01, 7.97200e+01, 4.16740e+02,\n",
       "       2.89000e+00, 2.28070e+02, 8.78000e+01, 9.65350e+02, 5.40600e+02,\n",
       "       3.82780e+02, 1.01080e+03, 1.12710e+02, 7.86700e+01, 1.65030e+02,\n",
       "       4.56150e+02, 1.97240e+02, 1.94580e+02, 7.43170e+02, 1.02000e+02,\n",
       "       3.68720e+02, 1.06280e+02, 1.02560e+02, 9.60000e+00, 1.16400e+02,\n",
       "       3.74100e+01, 2.16879e+03, 1.33580e+02, 2.09020e+02, 3.30800e+01,\n",
       "       9.92200e+01, 6.42880e+02, 3.07910e+02, 4.83660e+02, 2.37700e+01,\n",
       "       6.99000e+01, 1.52060e+02, 8.03000e+00, 3.84790e+02, 2.13900e+02,\n",
       "       2.34770e+02, 2.77190e+02, 3.77017e+03, 5.22870e+02, 7.97100e+01,\n",
       "       4.54980e+02, 1.54470e+02, 5.12400e+01, 3.25140e+02, 3.59790e+02,\n",
       "       1.39200e+01, 3.93780e+02, 2.49310e+02, 2.65600e+01, 4.27680e+02,\n",
       "       3.73360e+02, 2.35110e+02, 2.40410e+02, 2.86150e+02, 4.16430e+02,\n",
       "       2.29770e+02, 3.07410e+02, 3.79700e+01, 1.07800e+01, 2.74260e+02,\n",
       "       8.66130e+02, 6.42970e+02, 1.10340e+02, 3.60030e+02, 1.32500e+01,\n",
       "       3.38440e+02, 2.04390e+02, 1.79300e+01, 2.63620e+03, 2.65740e+02,\n",
       "       3.37220e+02, 6.52370e+02, 1.97410e+02, 2.02240e+02, 2.15690e+02,\n",
       "       2.05700e+01, 1.81500e+01, 4.40390e+02, 2.04025e+03, 1.57120e+02,\n",
       "       2.49100e+01, 3.34500e+01, 2.44320e+02, 1.94130e+02, 1.42240e+02,\n",
       "       4.72300e+01, 2.27800e+01, 1.36600e+01, 2.70500e+02, 4.07520e+02,\n",
       "       8.46800e+01, 1.23730e+02, 2.32160e+02, 5.84500e+01, 1.96050e+02,\n",
       "       1.03800e+02, 2.06600e+01, 1.46510e+02, 2.39180e+02, 2.97919e+03,\n",
       "       3.31780e+02, 1.56330e+02, 1.87120e+02, 4.54805e+03, 1.40090e+02,\n",
       "       1.21340e+02, 4.62330e+02, 4.92960e+02, 3.35510e+02, 2.78060e+02,\n",
       "       1.98300e+01, 2.26700e+01, 1.52850e+02, 3.21000e+00, 3.51450e+02,\n",
       "       1.88390e+02, 3.03200e+02, 1.24200e+01, 1.50830e+02, 8.71410e+02,\n",
       "       1.23479e+03, 3.82190e+02, 9.85800e+01, 6.94400e+01, 9.87200e+01,\n",
       "       6.81100e+01, 4.83520e+02, 3.31060e+02, 3.71800e+02, 1.17590e+02,\n",
       "       3.60300e+01, 4.12810e+02, 1.68340e+02, 9.52140e+02, 8.29000e+01,\n",
       "       2.98920e+02, 5.29000e+01, 3.92420e+02, 4.78500e+01, 2.70290e+02,\n",
       "       3.57460e+02, 1.24900e+01, 3.25700e+01, 4.59600e+01, 4.18540e+02,\n",
       "       2.40830e+02, 8.06400e+01, 4.53190e+02, 7.24900e+01, 5.88000e+01,\n",
       "       3.09340e+02, 8.84040e+02, 1.34869e+03, 3.58500e+01, 1.02197e+03,\n",
       "       1.08044e+03, 6.45000e+01, 4.73700e+01, 8.20500e+02, 5.94400e+01,\n",
       "       3.08470e+02, 1.32750e+02, 1.87200e+02, 1.88210e+02, 2.19520e+02,\n",
       "       1.33630e+02, 1.27640e+02, 4.31417e+03, 4.72400e+01, 3.32000e+01,\n",
       "       2.24980e+02, 6.52700e+01, 4.25000e+00, 1.25560e+02, 7.97000e+01,\n",
       "       1.11800e+01, 1.68590e+02, 1.03080e+02, 2.91660e+02, 2.30150e+02,\n",
       "       1.17550e+02, 2.57090e+02, 2.40370e+02, 4.30300e+01, 3.22150e+02,\n",
       "       1.60290e+02, 3.40610e+02, 1.75630e+02, 3.24600e+01, 4.51200e+01,\n",
       "       2.12090e+02, 2.07980e+02, 3.27500e+02, 4.05200e+02, 1.02600e+02,\n",
       "       2.66600e+01, 2.46000e+02, 8.86900e+01, 7.48750e+02, 5.57630e+02,\n",
       "       2.09000e+00, 1.28080e+02, 8.66800e+01, 1.78470e+02, 1.36148e+03,\n",
       "       1.07450e+02, 4.82200e+01, 1.40890e+02, 1.81490e+02, 6.88010e+02,\n",
       "       1.16262e+03, 6.27300e+01, 2.61980e+02, 1.95300e+01, 9.68070e+02,\n",
       "       2.93000e+01, 1.81725e+03, 2.23430e+02, 4.26000e+00, 7.87300e+01,\n",
       "       1.91440e+02, 1.12990e+02, 2.82850e+02, 4.14070e+02, 1.06733e+03,\n",
       "       2.75300e+02, 2.44690e+02, 2.70860e+02, 4.84500e+01, 7.44680e+02,\n",
       "       3.19680e+02, 1.92700e+01, 9.86900e+01, 6.68850e+02, 1.59890e+02,\n",
       "       5.47200e+01, 1.39760e+02, 2.88540e+02, 1.44120e+02, 1.13500e+01,\n",
       "       4.84700e+01, 7.80100e+01, 8.56600e+01, 5.61200e+01, 3.01390e+02,\n",
       "       8.80000e+00, 2.06230e+02, 3.90130e+02, 1.60650e+02, 1.85500e+02,\n",
       "       5.75100e+01, 4.01010e+02, 3.55830e+02, 1.49430e+02, 6.49850e+02,\n",
       "       3.75140e+02, 1.58680e+02, 2.70400e+02, 1.17200e+02, 1.13980e+02,\n",
       "       1.34424e+03, 2.83920e+02, 2.68930e+02, 3.60700e+02, 1.91650e+02,\n",
       "       4.98340e+02, 2.25000e+01, 4.62300e+02, 5.44820e+02, 1.79600e+01,\n",
       "       6.90900e+01, 3.99410e+02, 4.10020e+02, 2.99290e+02, 1.00390e+02,\n",
       "       9.09800e+01, 1.83740e+02, 8.98230e+02, 2.74760e+02, 6.63500e+01,\n",
       "       7.53600e+01, 4.62600e+01, 1.58580e+02, 1.76300e+01, 7.64120e+02,\n",
       "       1.28110e+02, 9.85930e+02, 1.51000e+02, 4.88540e+02, 2.44100e+01,\n",
       "       1.08920e+02, 4.99600e+01, 7.04030e+02, 1.23510e+02, 2.36900e+01,\n",
       "       2.31530e+02, 7.06780e+02, 5.68100e+01, 7.19000e+00, 6.05760e+02,\n",
       "       2.61220e+02, 9.56800e+01, 2.37570e+02, 5.37990e+02, 7.40400e+01,\n",
       "       2.64800e+01, 1.57300e+02, 6.26550e+02, 5.22100e+01, 1.25240e+02,\n",
       "       1.14210e+03, 2.94400e+01, 2.49840e+02, 4.20830e+02, 4.94950e+02,\n",
       "       1.48180e+02, 3.20600e+01, 1.80200e+01, 2.89240e+02, 2.25404e+03,\n",
       "       2.01800e+02, 4.43630e+02, 5.77000e+02, 6.63120e+02, 1.81700e+01,\n",
       "       4.48800e+01, 4.33200e+01, 5.30270e+02, 3.89740e+02, 3.34200e+01,\n",
       "       1.14400e+01, 1.15150e+02, 1.13700e+01, 9.15000e+01, 5.47000e+00,\n",
       "       1.30580e+02, 3.51080e+02, 7.58880e+02, 2.05640e+02, 8.58690e+02,\n",
       "       1.60270e+02, 3.61740e+02, 2.82460e+02, 2.17540e+02, 1.57360e+02,\n",
       "       1.36380e+02, 7.69400e+01, 4.33660e+02, 3.70980e+02, 9.68010e+02,\n",
       "       1.52354e+03, 7.40100e+02, 4.67500e+01, 1.12750e+02, 1.01340e+02,\n",
       "       9.62500e+01, 1.20100e+02, 2.98910e+02, 6.50100e+01, 2.70700e+01,\n",
       "       1.21450e+02, 3.55600e+01, 1.04300e+01, 3.08900e+01, 1.77480e+02,\n",
       "       5.50100e+01, 5.94600e+01, 3.40700e+01, 1.91100e+01, 1.52310e+02,\n",
       "       6.52100e+02])"
      ]
     },
     "execution_count": 50,
     "metadata": {},
     "output_type": "execute_result"
    }
   ],
   "source": [
    "OIII[samp]"
   ]
  },
  {
   "cell_type": "code",
   "execution_count": 51,
   "metadata": {},
   "outputs": [],
   "source": [
    "OHb=OIII[samp]/Hbeta[samp]\n",
    "SHa=SII[samp]/Halpha[samp]\n",
    "OiHa=OI[samp2]/Halpha[samp2]\n",
    "OHb2=OIII[samp2]/Hbeta[samp2]"
   ]
  },
  {
   "cell_type": "code",
   "execution_count": 85,
   "metadata": {},
   "outputs": [],
   "source": [
    "def agndefSII(x): \n",
    "    return 0.72/(x-0.32)+1.3\n",
    "def agndefOI(x):\n",
    "    return 0.73/(x+0.59)+1.33"
   ]
  },
  {
   "cell_type": "code",
   "execution_count": 98,
   "metadata": {},
   "outputs": [],
   "source": [
    "xxxx=np.linspace(-4,0.319999999,1000)\n",
    "xxxx2=np.linspace(-4,-0.590000001,1000)"
   ]
  },
  {
   "cell_type": "code",
   "execution_count": 99,
   "metadata": {},
   "outputs": [],
   "source": [
    "AGNSII=[]\n",
    "for i, idx in enumerate(samp):\n",
    "    if agndefSII(np.log10(SHa[i]))<np.log10(OHb[i]):\n",
    "        AGNSII.append(i)\n",
    "    elif np.log10(SHa[i])>0.32:\n",
    "        AGNSII.append(i)\n",
    "AGNOI=[]\n",
    "for i, idx in enumerate(samp2):\n",
    "    if agndefOI(np.log10(OiHa[i]))<np.log10(OHb2[i]):\n",
    "        AGNOI.append(i)\n",
    "    elif np.log10(OiHa[i])>-0.59:\n",
    "        AGNOI.append(i)"
   ]
  },
  {
   "cell_type": "code",
   "execution_count": 104,
   "metadata": {},
   "outputs": [],
   "source": [
    "AGNsamp=samp[AGNSII]"
   ]
  },
  {
   "cell_type": "code",
   "execution_count": 100,
   "metadata": {},
   "outputs": [
    {
     "data": {
      "text/plain": [
       "(145, 264)"
      ]
     },
     "execution_count": 100,
     "metadata": {},
     "output_type": "execute_result"
    }
   ],
   "source": [
    "len(AGNSII),len(AGNOI)"
   ]
  },
  {
   "cell_type": "code",
   "execution_count": 101,
   "metadata": {},
   "outputs": [
    {
     "data": {
      "image/png": "[encoded data removed]",
      "text/plain": [
       "<Figure size 720x720 with 1 Axes>"
      ]
     },
     "metadata": {
      "needs_background": "light"
     },
     "output_type": "display_data"
    }
   ],
   "source": [
    "plt.figure(figsize=(10,10))\n",
    "plt.scatter(np.log10(SHa),np.log10(OHb),c='black',s=3)\n",
    "plt.scatter(np.log10(SHa[AGNSII]),np.log10(OHb[AGNSII]),c='red',s=3)\n",
    "\n",
    "plt.xlabel('log([SII]/$H_{α}$)',fontsize=14)\n",
    "plt.ylabel('log([O III]/$H_{β}$)',fontsize=14)\n",
    "\n",
    "plt.plot(xxxx,agndefSII(xxxx),c='black',ls='--')\n",
    "\n",
    "plt.tick_params(axis='both',direction='in')\n",
    "plt.xlim(-3,2)\n",
    "plt.ylim(-2,2)\n",
    "plt.axhline(y=np.log10(3),c='black')\n",
    "\n",
    "plt.show()"
   ]
  },
  {
   "cell_type": "code",
   "execution_count": 102,
   "metadata": {},
   "outputs": [
    {
     "data": {
      "image/png": "[encoded data removed]",
      "text/plain": [
       "<Figure size 720x720 with 1 Axes>"
      ]
     },
     "metadata": {
      "needs_background": "light"
     },
     "output_type": "display_data"
    }
   ],
   "source": [
    "plt.figure(figsize=(10,10))\n",
    "plt.scatter(np.log10(OiHa),np.log10(OHb2),c='black',s=3)\n",
    "plt.scatter(np.log10(OiHa[AGNOI]),np.log10(OHb2[AGNOI]),c='red',s=3)\n",
    "\n",
    "\n",
    "plt.xlabel('log([OI]/$H_{α}$)',fontsize=14)\n",
    "plt.ylabel('log([O III]/$H_{β}$)',fontsize=14)\n",
    "\n",
    "\n",
    "plt.plot(xxxx2,agndefOI(xxxx2),c='black',ls='--')\n",
    "plt.axhline(y=np.log10(3),c='black')\n",
    "plt.tick_params(axis='both',direction='in')\n",
    "plt.xlim(-3,1.5)\n",
    "plt.ylim(-2,3)\n",
    "plt.show()"
   ]
  },
  {
   "cell_type": "code",
   "execution_count": 107,
   "metadata": {},
   "outputs": [
    {
     "data": {
      "image/png": "[encoded data removed]",
      "text/plain": [
       "<Figure size 432x288 with 1 Axes>"
      ]
     },
     "metadata": {
      "needs_background": "light"
     },
     "output_type": "display_data"
    }
   ],
   "source": [
    "plt.figure()\n",
    "plt.scatter(np.log10(OIII[AGNsamp]),Hd[AGNsamp])\n",
    "plt.ylim(-200,0)\n",
    "plt.show()"
   ]
  }
 ],
 "metadata": {
  "kernelspec": {
   "display_name": "Python 3.9.12 ('base')",
   "language": "python",
   "name": "python3"
  },
  "language_info": {
   "codemirror_mode": {
    "name": "ipython",
    "version": 3
   },
   "file_extension": ".py",
   "mimetype": "text/x-python",
   "name": "python",
   "nbconvert_exporter": "python",
   "pygments_lexer": "ipython3",
   "version": "3.9.12"
  },
  "orig_nbformat": 4,
  "vscode": {
   "interpreter": {
    "hash": "de7c8584ae51fbb089eecc0d6f203cc3cae3114d5c45556091d2c5b63465aa84"
   }
  }
 },
 "nbformat": 4,
 "nbformat_minor": 2
}
