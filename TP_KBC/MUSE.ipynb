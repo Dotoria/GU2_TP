{
 "cells": [
  {
   "cell_type": "code",
   "execution_count": 2,
   "metadata": {},
   "outputs": [],
   "source": [
    "import numpy as np \n",
    "import matplotlib.pyplot as plt\n",
    "from astropy.io import fits"
   ]
  },
  {
   "cell_type": "code",
   "execution_count": 3,
   "metadata": {},
   "outputs": [],
   "source": [
    "emline=fits.open('MW_1-24_emline_table.fits')\n",
    "main=fits.open('MW_1-24_main_table.fits')"
   ]
  },
  {
   "cell_type": "code",
   "execution_count": 4,
   "metadata": {},
   "outputs": [
    {
     "data": {
      "text/plain": [
       "XTENSION= 'BINTABLE'           / binary table extension                         \n",
       "BITPIX  =                    8 / array data type                                \n",
       "NAXIS   =                    2 / number of array dimensions                     \n",
       "NAXIS1  =                  209 / length of dimension 1                          \n",
       "NAXIS2  =                 1652 / length of dimension 2                          \n",
       "PCOUNT  =                    0 / number of group parameters                     \n",
       "GCOUNT  =                    1 / number of groups                               \n",
       "TFIELDS =                   27 / number of table fields                         \n",
       "TTYPE1  = 'UNIQUE_ID'                                                           \n",
       "TFORM1  = '10A     '                                                            \n",
       "TTYPE2  = 'POINTING_ID'                                                         \n",
       "TFORM2  = 'I       '                                                            \n",
       "TTYPE3  = 'OBJ_ID  '                                                            \n",
       "TFORM3  = 'I       '                                                            \n",
       "TTYPE4  = 'RID     '                                                            \n",
       "TFORM4  = 'I       '                                                            \n",
       "TTYPE5  = 'IDENT   '                                                            \n",
       "TFORM5  = '5A      '                                                            \n",
       "TTYPE6  = 'COMMENT '                                                            \n",
       "TFORM6  = '27A     '                                                            \n",
       "TTYPE7  = 'SN      '                                                            \n",
       "TFORM7  = 'D       '                                                            \n",
       "TTYPE8  = 'RA_SN   '                                                            \n",
       "TFORM8  = 'D       '                                                            \n",
       "TTYPE9  = 'DEC_SN  '                                                            \n",
       "TFORM9  = 'D       '                                                            \n",
       "TTYPE10 = 'LAMBDA_SN'                                                           \n",
       "TFORM10 = 'D       '                                                            \n",
       "TTYPE11 = 'RA_PEAK_SN'                                                          \n",
       "TFORM11 = 'D       '                                                            \n",
       "TTYPE12 = 'DEC_PEAK_SN'                                                         \n",
       "TFORM12 = 'D       '                                                            \n",
       "TTYPE13 = 'LAMBDA_PEAK_SN'                                                      \n",
       "TFORM13 = 'D       '                                                            \n",
       "TTYPE14 = 'LAMBDA_NB_MIN'                                                       \n",
       "TFORM14 = 'D       '                                                            \n",
       "TTYPE15 = 'LAMBDA_NB_MAX'                                                       \n",
       "TFORM15 = 'D       '                                                            \n",
       "TTYPE16 = 'RA_1MOM '                                                            \n",
       "TFORM16 = 'D       '                                                            \n",
       "TTYPE17 = 'DEC_1MOM'                                                            \n",
       "TFORM17 = 'D       '                                                            \n",
       "TTYPE18 = 'R_KRON  '                                                            \n",
       "TFORM18 = 'D       '                                                            \n",
       "TTYPE19 = 'F_KRON  '                                                            \n",
       "TFORM19 = 'D       '                                                            \n",
       "TTYPE20 = 'F_2KRON '                                                            \n",
       "TFORM20 = 'D       '                                                            \n",
       "TTYPE21 = 'F_3KRON '                                                            \n",
       "TFORM21 = 'D       '                                                            \n",
       "TTYPE22 = 'F_4KRON '                                                            \n",
       "TFORM22 = 'D       '                                                            \n",
       "TTYPE23 = 'F_KRON_ERR'                                                          \n",
       "TFORM23 = 'D       '                                                            \n",
       "TTYPE24 = 'F_2KRON_ERR'                                                         \n",
       "TFORM24 = 'D       '                                                            \n",
       "TTYPE25 = 'F_3KRON_ERR'                                                         \n",
       "TFORM25 = 'D       '                                                            \n",
       "TTYPE26 = 'F_4KRON_ERR'                                                         \n",
       "TFORM26 = 'D       '                                                            \n",
       "TTYPE27 = 'BORDER_FLAG'                                                         \n",
       "TFORM27 = 'L       '                                                            \n",
       "TUNIT8  = 'deg     '                                                            \n",
       "TUNIT9  = 'deg     '                                                            \n",
       "TUNIT10 = 'Angstrom'                                                            \n",
       "TUNIT11 = 'deg     '                                                            \n",
       "TUNIT12 = 'deg     '                                                            \n",
       "TUNIT13 = 'Angstrom'                                                            \n",
       "TUNIT14 = 'Angstrom'                                                            \n",
       "TUNIT15 = 'Angstrom'                                                            \n",
       "TUNIT16 = 'deg     '                                                            \n",
       "TUNIT17 = 'deg     '                                                            \n",
       "TUNIT18 = 'arcsec  '                                                            \n",
       "TUNIT19 = 'cm-2 erg s-1'                                                        \n",
       "TUNIT20 = 'cm-2 erg s-1'                                                        \n",
       "TUNIT21 = 'cm-2 erg s-1'                                                        \n",
       "TUNIT22 = 'cm-2 erg s-1'                                                        \n",
       "TUNIT23 = 'cm-2 erg s-1'                                                        \n",
       "TUNIT24 = 'cm-2 erg s-1'                                                        \n",
       "TUNIT25 = 'cm-2 erg s-1'                                                        \n",
       "TUNIT26 = 'cm-2 erg s-1'                                                        "
      ]
     },
     "execution_count": 4,
     "metadata": {},
     "output_type": "execute_result"
    }
   ],
   "source": [
    "emline[1].header"
   ]
  },
  {
   "cell_type": "code",
   "execution_count": 5,
   "metadata": {},
   "outputs": [],
   "source": [
    "emdata=emline[1].data"
   ]
  },
  {
   "cell_type": "code",
   "execution_count": 6,
   "metadata": {},
   "outputs": [
    {
     "data": {
      "text/plain": [
       "FITS_rec([('101001006',  1,  1,  1, 'O2', '-', 52.80105484, 53.0602568 , -27.81349927, 4886.8361722 , 53.06021005, -27.81346574, 4886.32617188, 4874.45117188, 4893.20117188, 53.06021364, -27.81344981, 0.91274899, 7366.35009766, 11657.61230469, 12519.32617188, 13284.05761719, 217.48802185, 433.32527161, 649.16046143, 867.0639801 ,  0),\n",
       "          ('101001006',  1,  1,  2, 'Hg', '-', 11.62526985, 53.06017562, -27.81348809, 5689.17135903, 53.06014724, -27.81346574, 5688.82617188, 5685.70117188, 5693.20117188, 53.06017502, -27.81348291, 0.76675961,  677.8666687 ,  1358.81942749,  1445.13595581,  1671.32904053,  93.16246033, 181.90551758, 273.27213287, 364.80369568,  0),\n",
       "          ('101001006',  1,  1,  3, 'Hb', '-', 29.16885731, 53.06023335, -27.8134689 , 6372.58540002, 53.06021005, -27.81346574, 6371.32617188, 6366.95117188, 6378.20117188, 53.06017304, -27.81344894, 0.84946585, 1862.27386475,  3103.15368652,  3579.57763672,  4135.11169434,  95.93351364, 194.46580887, 292.41487503, 389.79110718,  0),\n",
       "          ...,\n",
       "          ('124046083', 24, 46, 83, 'O3_2', '-',  8.32674457, 53.15315515, -27.82300727, 8357.71519588, 53.15315622, -27.82303521, 8357.22607422, 8354.10107422, 8362.85107422, 53.1531898 , -27.82302171, 0.6       ,  386.75662994,   558.93939972,   521.87927246,   447.64484406,  69.71775532, 141.95953369, 211.07982635, 278.68625641,  1),\n",
       "          ('124047084', 24, 47, 84, 'O2', '-', 16.82412971, 53.16182243, -27.81841908, 8598.13545983, 53.16182511, -27.81842444, 8599.72607422, 8589.10107422, 8606.60107422, 53.16179301, -27.81841326, 0.6       , 1274.48944092,  1712.91122437,  1744.74472046,  1857.56454468,  92.26564407, 182.91772842, 274.43065643, 366.35231018,  0),\n",
       "          ('124048085', 24, 48, 85, 'O2', '-', 13.26708945, 53.15708912, -27.82829805, 9187.72644556, 53.15711344, -27.82831321, 9187.22607422, 9177.85107422, 9197.85107422, 53.15710182, -27.82831842, 0.6       ,  906.19476318,   940.3931427 ,   982.91938782,  1417.33139038,  93.4598732 , 187.82567978, 280.00471115, 375.84201813,  0)],\n",
       "         dtype=(numpy.record, [('UNIQUE_ID', 'S10'), ('POINTING_ID', '>i2'), ('OBJ_ID', '>i2'), ('RID', '>i2'), ('IDENT', 'S5'), ('COMMENT', 'S27'), ('SN', '>f8'), ('RA_SN', '>f8'), ('DEC_SN', '>f8'), ('LAMBDA_SN', '>f8'), ('RA_PEAK_SN', '>f8'), ('DEC_PEAK_SN', '>f8'), ('LAMBDA_PEAK_SN', '>f8'), ('LAMBDA_NB_MIN', '>f8'), ('LAMBDA_NB_MAX', '>f8'), ('RA_1MOM', '>f8'), ('DEC_1MOM', '>f8'), ('R_KRON', '>f8'), ('F_KRON', '>f8'), ('F_2KRON', '>f8'), ('F_3KRON', '>f8'), ('F_4KRON', '>f8'), ('F_KRON_ERR', '>f8'), ('F_2KRON_ERR', '>f8'), ('F_3KRON_ERR', '>f8'), ('F_4KRON_ERR', '>f8'), ('BORDER_FLAG', 'i1')]))"
      ]
     },
     "execution_count": 6,
     "metadata": {},
     "output_type": "execute_result"
    }
   ],
   "source": [
    "emdata"
   ]
  },
  {
   "cell_type": "code",
   "execution_count": 7,
   "metadata": {},
   "outputs": [],
   "source": [
    "ID=emdata['UNIQUE_ID']\n",
    "RID=emdata['IDENT']\n",
    "lflux=emdata['F_2KRON']"
   ]
  },
  {
   "cell_type": "code",
   "execution_count": 8,
   "metadata": {},
   "outputs": [
    {
     "data": {
      "text/plain": [
       "1652"
      ]
     },
     "execution_count": 8,
     "metadata": {},
     "output_type": "execute_result"
    }
   ],
   "source": [
    "len(ID)"
   ]
  },
  {
   "cell_type": "code",
   "execution_count": 9,
   "metadata": {},
   "outputs": [
    {
     "data": {
      "text/plain": [
       "101001006"
      ]
     },
     "execution_count": 9,
     "metadata": {},
     "output_type": "execute_result"
    }
   ],
   "source": [
    "np.int64(ID[0])"
   ]
  },
  {
   "cell_type": "code",
   "execution_count": 14,
   "metadata": {},
   "outputs": [
    {
     "data": {
      "text/plain": [
       "array([0])"
      ]
     },
     "execution_count": 14,
     "metadata": {},
     "output_type": "execute_result"
    }
   ],
   "source": [
    "np.where(np.unique(ID)==ID[0])[0]"
   ]
  },
  {
   "cell_type": "code",
   "execution_count": 15,
   "metadata": {},
   "outputs": [],
   "source": [
    "#ID, emission lines\n",
    "newdat=np.ones((len(np.unique(ID)),len(np.unique(RID))+1),dtype='float')*(-99.0)\n",
    "for i in range(len(np.unique(ID))):\n",
    "    newdat[i][0]=np.int64(np.unique(ID)[i])\n",
    "for i in range(len(ID)):\n",
    "    ii=np.where(np.unique(ID)==ID[i])[0][0]\n",
    "    lid=np.where(np.unique(RID)==RID[i])[0][0]+1\n",
    "    newdat[ii][lid]=lflux[i]"
   ]
  },
  {
   "cell_type": "code",
   "execution_count": null,
   "metadata": {},
   "outputs": [
    {
     "data": {
      "text/plain": [
       "chararray(['C4', 'Ha', 'Hb', 'Hd', 'He1', 'Heps', 'Hg', 'Hzet', 'Lya',\n",
       "           'Mg2', 'N2_1', 'N2_2', 'N5', 'Ne3', 'Ne32', 'O1', 'O2', 'O3_1',\n",
       "           'O3_2', 'O3_3', 'O6_2', 'S2_1', 'S2_2'], dtype='<U5')"
      ]
     },
     "execution_count": 11,
     "metadata": {},
     "output_type": "execute_result"
    }
   ],
   "source": [
    "np.unique(RID)"
   ]
  },
  {
   "cell_type": "code",
   "execution_count": 18,
   "metadata": {},
   "outputs": [],
   "source": [
    "Halpha=newdat[2]\n",
    "Hbeta=newdat[3]\n",
    "Hdelta=newdat[4]\n",
    "Sii=newdat[22]\n",
    "Sii2=newdat[23]\n",
    "Oiii=newdat[19]"
   ]
  },
  {
   "cell_type": "code",
   "execution_count": 19,
   "metadata": {},
   "outputs": [],
   "source": [
    "samp = np.where((Halpha>0)&(Hbeta>0)&(Oiii>0)&(Sii>0))[0]"
   ]
  },
  {
   "cell_type": "code",
   "execution_count": 21,
   "metadata": {},
   "outputs": [
    {
     "data": {
      "text/plain": [
       "array([0])"
      ]
     },
     "execution_count": 21,
     "metadata": {},
     "output_type": "execute_result"
    }
   ],
   "source": []
  }
 ],
 "metadata": {
  "kernelspec": {
   "display_name": "Python 3.9.12 ('base')",
   "language": "python",
   "name": "python3"
  },
  "language_info": {
   "codemirror_mode": {
    "name": "ipython",
    "version": 3
   },
   "file_extension": ".py",
   "mimetype": "text/x-python",
   "name": "python",
   "nbconvert_exporter": "python",
   "pygments_lexer": "ipython3",
   "version": "3.9.12"
  },
  "orig_nbformat": 4,
  "vscode": {
   "interpreter": {
    "hash": "de7c8584ae51fbb089eecc0d6f203cc3cae3114d5c45556091d2c5b63465aa84"
   }
  }
 },
 "nbformat": 4,
 "nbformat_minor": 2
}
