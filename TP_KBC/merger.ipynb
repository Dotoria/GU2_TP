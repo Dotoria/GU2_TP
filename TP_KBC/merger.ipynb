{
 "cells": [
  {
   "cell_type": "code",
   "execution_count": 1,
   "metadata": {},
   "outputs": [],
   "source": [
    "import numpy as np\n",
    "import matplotlib.pyplot as plt"
   ]
  },
  {
   "cell_type": "code",
   "execution_count": 2,
   "metadata": {},
   "outputs": [],
   "source": [
    "# 0: no merger\n",
    "# 1: on-going merger\n",
    "# 2: post-merger"
   ]
  },
  {
   "cell_type": "code",
   "execution_count": 44,
   "metadata": {},
   "outputs": [
    {
     "data": {
      "text/plain": [
       "25"
      ]
     },
     "execution_count": 44,
     "metadata": {},
     "output_type": "execute_result"
    }
   ],
   "source": [
    "im1=list([0,2,0,0,0,0,1,0,0,0,0,0,0,0,2,0,0,2,0,0,0,2,0,0,2])\n",
    "len(im1)"
   ]
  },
  {
   "cell_type": "code",
   "execution_count": 45,
   "metadata": {},
   "outputs": [
    {
     "data": {
      "text/plain": [
       "25"
      ]
     },
     "execution_count": 45,
     "metadata": {},
     "output_type": "execute_result"
    }
   ],
   "source": [
    "im2=list([0,1,0,0,0,0,0,0,0,2,0,0,0,1,0,0,2,1,0,0,0,2,0,2,0])\n",
    "len(im2)"
   ]
  },
  {
   "cell_type": "code",
   "execution_count": 46,
   "metadata": {},
   "outputs": [
    {
     "data": {
      "text/plain": [
       "25"
      ]
     },
     "execution_count": 46,
     "metadata": {},
     "output_type": "execute_result"
    }
   ],
   "source": [
    "im3=list([1,0,2,0,0,0,0,0,2,0,0,0,0,0,0,0,2,2,0,0,2,0,2,0,0])\n",
    "len(im3)"
   ]
  },
  {
   "cell_type": "code",
   "execution_count": 47,
   "metadata": {},
   "outputs": [
    {
     "data": {
      "text/plain": [
       "25"
      ]
     },
     "execution_count": 47,
     "metadata": {},
     "output_type": "execute_result"
    }
   ],
   "source": [
    "im4=list([0,0,2,0,0,0,0,0,0,1,0,1,2,0,1,0,0,0,0,0,2,2,0,0,1])\n",
    "len(im4)"
   ]
  },
  {
   "cell_type": "code",
   "execution_count": 48,
   "metadata": {},
   "outputs": [
    {
     "data": {
      "text/plain": [
       "25"
      ]
     },
     "execution_count": 48,
     "metadata": {},
     "output_type": "execute_result"
    }
   ],
   "source": [
    "im5=list([0,0,1,0,0,0,0,0,0,0,0,0,0,0,2,0,2,0,0,0,0,2,0,0,0])\n",
    "len(im5)"
   ]
  },
  {
   "cell_type": "code",
   "execution_count": 49,
   "metadata": {},
   "outputs": [
    {
     "data": {
      "text/plain": [
       "25"
      ]
     },
     "execution_count": 49,
     "metadata": {},
     "output_type": "execute_result"
    }
   ],
   "source": [
    "im6=list([0,0,0,0,2,0,0,0,2,0,0,0,0,2,0,2,2,0,0,0,0,0,0,0,0])\n",
    "len(im6)"
   ]
  },
  {
   "cell_type": "code",
   "execution_count": 50,
   "metadata": {},
   "outputs": [
    {
     "data": {
      "text/plain": [
       "25"
      ]
     },
     "execution_count": 50,
     "metadata": {},
     "output_type": "execute_result"
    }
   ],
   "source": [
    "im7=list([0,2,0,0,1,0,0,2,2,2,0,2,0,0,0,0,0,0,0,2,1,2,0,0,2])\n",
    "len(im7)"
   ]
  },
  {
   "cell_type": "code",
   "execution_count": 51,
   "metadata": {},
   "outputs": [
    {
     "data": {
      "text/plain": [
       "25"
      ]
     },
     "execution_count": 51,
     "metadata": {},
     "output_type": "execute_result"
    }
   ],
   "source": [
    "im8=list([0,0,0,0,0,0,0,0,0,0,2,0,0,0,2,0,0,0,0,0,2,0,0,0,0])\n",
    "len(im8)"
   ]
  },
  {
   "cell_type": "code",
   "execution_count": 52,
   "metadata": {},
   "outputs": [
    {
     "data": {
      "text/plain": [
       "25"
      ]
     },
     "execution_count": 52,
     "metadata": {},
     "output_type": "execute_result"
    }
   ],
   "source": [
    "im9=list([0,0,0,2,1,0,2,0,0,2,2,0,2,0,2,2,0,1,2,2,2,2,0,1,0])\n",
    "len(im9)"
   ]
  },
  {
   "cell_type": "code",
   "execution_count": 53,
   "metadata": {},
   "outputs": [
    {
     "data": {
      "text/plain": [
       "25"
      ]
     },
     "execution_count": 53,
     "metadata": {},
     "output_type": "execute_result"
    }
   ],
   "source": [
    "im10=list([0,0,0,2,0,0,0,0,0,0,0,0,0,0,0,0,2,0,0,0,2,2,0,0,2])\n",
    "len(im10)"
   ]
  },
  {
   "cell_type": "code",
   "execution_count": 54,
   "metadata": {},
   "outputs": [
    {
     "data": {
      "text/plain": [
       "25"
      ]
     },
     "execution_count": 54,
     "metadata": {},
     "output_type": "execute_result"
    }
   ],
   "source": [
    "im11=list([0,0,2,0,2,0,2,2,0,2,0,0,2,0,0,0,0,2,0,2,0,0,0,1,0])\n",
    "len(im11)"
   ]
  },
  {
   "cell_type": "code",
   "execution_count": 55,
   "metadata": {},
   "outputs": [
    {
     "data": {
      "text/plain": [
       "25"
      ]
     },
     "execution_count": 55,
     "metadata": {},
     "output_type": "execute_result"
    }
   ],
   "source": [
    "im12=list([0,0,2,0,2,0,0,0,0,1,2,0,0,0,2,0,0,0,0,0,0,1,2,2,0])\n",
    "len(im12)"
   ]
  },
  {
   "cell_type": "code",
   "execution_count": 56,
   "metadata": {},
   "outputs": [
    {
     "data": {
      "text/plain": [
       "25"
      ]
     },
     "execution_count": 56,
     "metadata": {},
     "output_type": "execute_result"
    }
   ],
   "source": [
    "im26=list([0,0,0,0,0,2,0,0,0,0,0,0,0,0,2,0,0,0,0,0,0,0,0,0,1])\n",
    "len(im26)"
   ]
  },
  {
   "cell_type": "code",
   "execution_count": 57,
   "metadata": {},
   "outputs": [
    {
     "data": {
      "text/plain": [
       "25"
      ]
     },
     "execution_count": 57,
     "metadata": {},
     "output_type": "execute_result"
    }
   ],
   "source": [
    "im13=list([0,0,2,1,0,0,0,2,0,0,0,2,0,0,0,0,0,0,0,0,1,0,2,0,0])\n",
    "len(im13)"
   ]
  },
  {
   "cell_type": "code",
   "execution_count": 58,
   "metadata": {},
   "outputs": [
    {
     "data": {
      "text/plain": [
       "25"
      ]
     },
     "execution_count": 58,
     "metadata": {},
     "output_type": "execute_result"
    }
   ],
   "source": [
    "im14=list([0,0,0,0,0,0,0,0,0,0,0,0,0,0,0,0,0,0,0,0,0,0,2,0,0])\n",
    "len(im14)"
   ]
  },
  {
   "cell_type": "code",
   "execution_count": 59,
   "metadata": {},
   "outputs": [
    {
     "data": {
      "text/plain": [
       "25"
      ]
     },
     "execution_count": 59,
     "metadata": {},
     "output_type": "execute_result"
    }
   ],
   "source": [
    "im15=list([0,0,2,0,0,0,0,0,0,0,0,2,0,0,0,0,0,0,0,0,0,0,0,0,0])\n",
    "len(im15)"
   ]
  },
  {
   "cell_type": "code",
   "execution_count": 60,
   "metadata": {},
   "outputs": [
    {
     "data": {
      "text/plain": [
       "25"
      ]
     },
     "execution_count": 60,
     "metadata": {},
     "output_type": "execute_result"
    }
   ],
   "source": [
    "im16=list([0,0,0,0,0,0,0,0,0,0,0,0,0,0,0,0,0,0,0,0,0,0,0,0,0])\n",
    "len(im16)"
   ]
  },
  {
   "cell_type": "code",
   "execution_count": 61,
   "metadata": {},
   "outputs": [
    {
     "data": {
      "text/plain": [
       "25"
      ]
     },
     "execution_count": 61,
     "metadata": {},
     "output_type": "execute_result"
    }
   ],
   "source": [
    "im17=list([0,0,0,0,0,0,0,0,2,0,0,0,0,0,0,0,0,0,0,0,0,0,0,0,0])\n",
    "len(im17)"
   ]
  },
  {
   "cell_type": "code",
   "execution_count": 62,
   "metadata": {},
   "outputs": [
    {
     "data": {
      "text/plain": [
       "25"
      ]
     },
     "execution_count": 62,
     "metadata": {},
     "output_type": "execute_result"
    }
   ],
   "source": [
    "im18=list([0,0,0,0,0,0,0,0,0,0,0,0,0,0,0,0,2,0,0,0,0,0,0,0,0])\n",
    "len(im18)"
   ]
  },
  {
   "cell_type": "code",
   "execution_count": 63,
   "metadata": {},
   "outputs": [
    {
     "data": {
      "text/plain": [
       "25"
      ]
     },
     "execution_count": 63,
     "metadata": {},
     "output_type": "execute_result"
    }
   ],
   "source": [
    "im19=list([0,0,2,0,2,0,0,0,0,0,0,0,0,0,2,0,0,2,0,0,0,0,0,0,0])\n",
    "len(im19)"
   ]
  },
  {
   "cell_type": "code",
   "execution_count": 64,
   "metadata": {},
   "outputs": [
    {
     "data": {
      "text/plain": [
       "25"
      ]
     },
     "execution_count": 64,
     "metadata": {},
     "output_type": "execute_result"
    }
   ],
   "source": [
    "im20=list([2,0,0,0,0,2,0,2,0,0,0,0,0,2,0,0,0,0,0,0,0,0,2,0,0])\n",
    "len(im20)"
   ]
  },
  {
   "cell_type": "code",
   "execution_count": 65,
   "metadata": {},
   "outputs": [
    {
     "data": {
      "text/plain": [
       "25"
      ]
     },
     "execution_count": 65,
     "metadata": {},
     "output_type": "execute_result"
    }
   ],
   "source": [
    "im21=list([0,0,0,0,0,0,0,0,0,0,0,0,0,0,0,0,0,0,0,0,1,2,0,0,0])\n",
    "len(im21)"
   ]
  },
  {
   "cell_type": "code",
   "execution_count": 66,
   "metadata": {},
   "outputs": [
    {
     "data": {
      "text/plain": [
       "25"
      ]
     },
     "execution_count": 66,
     "metadata": {},
     "output_type": "execute_result"
    }
   ],
   "source": [
    "im22=list([2,0,0,0,2,0,0,0,2,2,0,0,0,0,0,0,0,0,0,0,0,0,0,0,0])\n",
    "len(im22)"
   ]
  },
  {
   "cell_type": "code",
   "execution_count": 67,
   "metadata": {},
   "outputs": [
    {
     "data": {
      "text/plain": [
       "25"
      ]
     },
     "execution_count": 67,
     "metadata": {},
     "output_type": "execute_result"
    }
   ],
   "source": [
    "im23=list([1,0,2,0,0,0,0,0,0,0,0,0,0,0,2,0,0,0,0,0,0,0,0,0,2])\n",
    "len(im23)"
   ]
  },
  {
   "cell_type": "code",
   "execution_count": 68,
   "metadata": {},
   "outputs": [
    {
     "data": {
      "text/plain": [
       "25"
      ]
     },
     "execution_count": 68,
     "metadata": {},
     "output_type": "execute_result"
    }
   ],
   "source": [
    "im24=list([0,0,0,0,0,0,0,0,0,0,0,0,0,2,0,0,2,0,0,0,0,0,0,0,0])\n",
    "len(im24)"
   ]
  },
  {
   "cell_type": "code",
   "execution_count": 69,
   "metadata": {},
   "outputs": [
    {
     "data": {
      "text/plain": [
       "25"
      ]
     },
     "execution_count": 69,
     "metadata": {},
     "output_type": "execute_result"
    }
   ],
   "source": [
    "im25=list([0,0,0,0,2,0,0,0,2,2,0,0,0,0,0,2,0,0,0,0,0,0,0,0,0])\n",
    "len(im25)"
   ]
  },
  {
   "cell_type": "code",
   "execution_count": 70,
   "metadata": {},
   "outputs": [
    {
     "data": {
      "text/plain": [
       "25"
      ]
     },
     "execution_count": 70,
     "metadata": {},
     "output_type": "execute_result"
    }
   ],
   "source": [
    "im27=list([0,0,0,2,2,0,0,0,0,0,0,2,0,1,0,0,0,0,0,0,0,0,0,0,0])\n",
    "len(im27)"
   ]
  },
  {
   "cell_type": "code",
   "execution_count": 71,
   "metadata": {},
   "outputs": [
    {
     "data": {
      "text/plain": [
       "25"
      ]
     },
     "execution_count": 71,
     "metadata": {},
     "output_type": "execute_result"
    }
   ],
   "source": [
    "im28=list([0,0,0,0,0,0,0,0,0,0,0,0,0,0,0,0,0,0,0,0,0,0,2,2,0])\n",
    "len(im28)"
   ]
  },
  {
   "cell_type": "code",
   "execution_count": 72,
   "metadata": {},
   "outputs": [
    {
     "data": {
      "text/plain": [
       "23"
      ]
     },
     "execution_count": 72,
     "metadata": {},
     "output_type": "execute_result"
    }
   ],
   "source": [
    "im29=list([0,0,0,2,0,0,2,0,0,0,0,0,0,2,0,0,0,0,0,0,0,0,2])\n",
    "len(im29)"
   ]
  },
  {
   "cell_type": "code",
   "execution_count": 132,
   "metadata": {},
   "outputs": [],
   "source": [
    "KBC=np.array(im1+im2+im3+im4+im5+im6+im7+im8+im9+im10+im11+im12+im13+im14+im15+im16+im17+im18+im19+im20+im21+im22+im23+im24+im25+im26+im27+im28+im29)"
   ]
  },
  {
   "cell_type": "code",
   "execution_count": 133,
   "metadata": {},
   "outputs": [],
   "source": [
    "KSH=np.loadtxt('KSH.txt',dtype=int)"
   ]
  },
  {
   "cell_type": "code",
   "execution_count": 134,
   "metadata": {},
   "outputs": [],
   "source": [
    "JSH=np.array([2, 2, 0, 0, 0, 0, 0, 0, 0, 0, 0, 0, 0, 0, 2, 0, 0, 2, 0, 0, 0, 0, 0, 0, 2, 0, 1, 0, 0, 0, 0, 0, 0, 1, 2, 0, 0, 0, 1, 0, 0, 1, 0, 0, 0, 0, 2, 0, 2, 0, 0, 0, 2, 0, 0, 0, 0, 0, 0, 1, 0, 0, 0, 0, 0, 1, 1, 0, 0, 0, 0, 0, 2, 0, 0, 1, 0, 0, 0, 0, 2, 0, 0, 0, 0, 0, 1, 0, 2, 0, 1, 0, 0, 0, 0, 2, 1, 0, 0, 0, 0, 0, 1, 0, 1, 0, 0, 0, 0, 0, 2, 0, 1, 0, 0, 0, 2, 0, 0, 2, 0, 0, 0, 0, 0, 0, 0, 0, 0, 2, 0, 0, 0, 0, 0, 0, 0, 0, 2, 0, 2, 0, 0, 0, 0, 0, 0, 0, 0, 0, 0, 0, 0, 0, 1, 0, 0, 0, 1, 1, 0, 1, 0, 0, 0, 0, 0, 1, 0, 0, 0, 2, 0, 0, 0, 0, 0, 0, 0, 0, 0, 0, 0, 0, 0, 0, 0, 0, 2, 0, 0, 0, 0, 1, 0, 0, 0, 0, 0, 1, 0, 0, 0, 1, 2, 0, 2, 0, 0, 2, 0, 0, 0, 0, 0, 1, 0, 0, 2, 0, 2, 0, 0, 0, 0, 1, 0, 0, 2, 0, 0, 1, 0, 0, 0, 0, 0, 0, 0, 0, 0, 1, 0, 0, 0, 2, 2, 0, 0, 0, 0, 0, 0, 0, 0, 0, 2, 1, 0, 0, 0, 0, 0, 0, 0, 0, 1, 0, 0, 1, 0, 0, 0, 1, 0, 0, 0, 0, 0, 0, 0, 0, 0, 0, 1, 0, 0, 0, 0, 1, 2, 1, 0, 0, 1, 0, 1, 2, 1, 0, 0, 0, 1, 2, 0, 0, 0, 1, 0, 0, 0, 1, 0, 0, 0, 0, 0, 0, 0, 0, 1, 0, 2, 2, 0, 0, 0, 2, 0, 0, 0, 0, 0, 0, 0, 0, 0, 0, 0, 0, 0, 0, 0, 0, 0, 0, 0, 1, 0, 0, 0, 0, 1, 0, 0, 0, 0, 0, 0, 0, 0, 0, 0, 1, 0, 0, 0, 0, 0, 0, 0, 1, 0, 0, 0, 0, 0, 0, 0, 0, 0, 0, 0, 0, 0, 0, 0, 0, 0, 0, 0, 0, 0, 0, 0, 0, 0, 0, 0, 0, 2, 0, 0, 0, 0, 0, 0, 0, 1, 0, 0, 0, 0, 1, 0, 1, 0, 0, 0, 0, 0, 0, 0, 0, 0, 0, 0, 2, 0, 0, 0, 0, 2, 0, 0, 0, 0, 0, 0, 0, 0, 1, 0, 0, 0, 0, 0, 0, 0, 0, 0, 2, 1, 0, 0, 0, 0, 0, 0, 0, 0, 0, 0, 0, 1, 0, 0, 1, 0, 0, 0, 1, 0, 0, 0, 0, 0, 0, 2, 0, 1, 0, 2, 0, 0, 0, 0, 0, 0, 0, 0, 1, 0, 0, 0, 0, 0, 1, 0, 0, 0, 0, 0, 0, 0, 0, 0, 0, 0, 0, 0, 0, 0, 0, 0, 0, 0, 0, 0, 0, 0, 1, 0, 0, 0, 0, 2, 0, 0, 2, 2, 0, 0, 0, 1, 0, 0, 0, 0, 0, 0, 0, 1, 0, 0, 0, 0, 0, 0, 0, 0, 0, 1, 0, 0, 0, 0, 0, 0, 0, 0, 0, 0, 0, 1, 0, 0, 0, 0, 0, 0, 0, 0, 0, 0, 0, 0, 0, 0, 0, 0, 0, 0, 0, 0, 0, 0, 0, 1, 0, 0, 0, 0, 0, 0, 1, 0, 0, 0, 0, 0, 0, 2, 0, 0, 0, 0, 0, 1, 2, 0, 0, 0, 2, 0, 2, 1, 0, 0, 0, 1, 0, 0, 0, 0, 0, 0, 0, 0, 0, 0, 0, 0, 1, 0, 0, 0, 0, 0, 2, 0, 0, 0, 0, 0, 0, 0, 0, 0, 0, 0, 0, 0, 1, 1, 0, 0, 0, 0, 0, 0, 0, 0, 2, 0, 0, 0, 0, 0, 0, 0, 0, 1, 0, 0, 0, 0, 0, 0, 0, 0, 0, 0, 0, 0, 0, 0, 0, 0, 0, 0, 0, 0, 0, 0, 0, 0, 0, 1, 0, 0, 0, 0, 2, 1, 0, 2, 0, 0, 0, 0, 0, 0, 0, 0, 0, 0, 0, 0, 0, 0, 1, 0])"
   ]
  },
  {
   "cell_type": "code",
   "execution_count": 135,
   "metadata": {},
   "outputs": [
    {
     "data": {
      "text/plain": [
       "(723, 723, 723)"
      ]
     },
     "execution_count": 135,
     "metadata": {},
     "output_type": "execute_result"
    }
   ],
   "source": [
    "len(KSH),len(KBC),len(JSH)"
   ]
  },
  {
   "cell_type": "code",
   "execution_count": 136,
   "metadata": {},
   "outputs": [],
   "source": [
    "all0=[]\n",
    "all1=[]\n",
    "all2=[]\n",
    "two0=[]\n",
    "two1=[]\n",
    "two2=[]\n",
    "for i in range(723):\n",
    "    if KSH[i]==KBC[i]==JSH[i]:\n",
    "        if KSH[i]==0:\n",
    "            all0.append(i)\n",
    "        elif KSH[i]==1:\n",
    "            all1.append(i)\n",
    "        elif KSH[i]==2:\n",
    "            all2.append(i)"
   ]
  },
  {
   "cell_type": "code",
   "execution_count": 137,
   "metadata": {},
   "outputs": [
    {
     "data": {
      "text/plain": [
       "(498, 5, 19)"
      ]
     },
     "execution_count": 137,
     "metadata": {},
     "output_type": "execute_result"
    }
   ],
   "source": [
    "len(all0),len(all1),len(all2)"
   ]
  },
  {
   "cell_type": "code",
   "execution_count": 138,
   "metadata": {},
   "outputs": [],
   "source": [
    "KSH2=KSH\n",
    "JSH2=JSH\n",
    "KBC2=KBC"
   ]
  },
  {
   "cell_type": "code",
   "execution_count": 139,
   "metadata": {},
   "outputs": [],
   "source": [
    "\n",
    "KSH2[np.where(KSH2==1)]=10\n",
    "JSH2[np.where(JSH2==1)]=10\n",
    "KBC2[np.where(KBC2==1)]=10\n",
    "KSH2[np.where(KSH2==2)]=100\n",
    "JSH2[np.where(JSH2==2)]=100\n",
    "KBC2[np.where(KBC2==2)]=100\n",
    "KSH2[np.where(KSH2==0)]=1\n",
    "JSH2[np.where(JSH2==0)]=1\n",
    "KBC2[np.where(KBC2==0)]=1"
   ]
  },
  {
   "cell_type": "code",
   "execution_count": 140,
   "metadata": {},
   "outputs": [],
   "source": [
    "all0=[]\n",
    "all1=[]\n",
    "all2=[]\n",
    "two0=[]\n",
    "two1=[]\n",
    "two2=[]\n",
    "for i in range(723):\n",
    "    if KSH2[i]==KBC2[i]==JSH2[i]:\n",
    "        if KSH2[i]==1:\n",
    "            all0.append(i)\n",
    "        elif KSH2[i]==10:\n",
    "            all1.append(i)\n",
    "        elif KSH2[i]==100:\n",
    "            all2.append(i)"
   ]
  },
  {
   "cell_type": "code",
   "execution_count": 141,
   "metadata": {},
   "outputs": [
    {
     "data": {
      "text/plain": [
       "(498, 5, 19)"
      ]
     },
     "execution_count": 141,
     "metadata": {},
     "output_type": "execute_result"
    }
   ],
   "source": [
    "len(all0),len(all1),len(all2)"
   ]
  },
  {
   "cell_type": "code",
   "execution_count": 142,
   "metadata": {},
   "outputs": [],
   "source": [
    "res=KSH2+KBC2+JSH2"
   ]
  },
  {
   "cell_type": "code",
   "execution_count": 145,
   "metadata": {},
   "outputs": [
    {
     "data": {
      "text/plain": [
       "array([102, 201,   3,   3,   3,   3,  12,   3,   3,   3,   3,   3,   3,\n",
       "         3, 201,   3,   3, 201,   3,   3,   3, 102,   3,   3, 201, 102,\n",
       "        30,   3,   3,   3,   3,   3,   3,  12, 300,   3,   3,   3,  21,\n",
       "         3,   3, 111,  12,   3,   3,   3, 201,   3, 300,   3,  21,   3,\n",
       "       300,   3, 102, 102,   3,   3, 201,  12,   3,   3, 102,   3,   3,\n",
       "        12, 111, 102,   3,   3, 102,   3, 300,   3,   3,  12,   3, 102,\n",
       "         3,   3, 111,   3,   3,   3,  21,   3, 120, 102, 102, 111,  12,\n",
       "         3,   3,   3,   3, 300, 210,   3,   3,  21,   3,   3, 120,   3,\n",
       "        12,   3,   3,   3,   3,   3, 102,   3,  12,   3, 201,   3, 201,\n",
       "         3,   3, 201,   3, 201,   3,   3,   3,   3,   3,   3,   3, 300,\n",
       "         3,   3,   3, 102,   3,   3,   3,   3, 300,   3, 300, 201,   3,\n",
       "         3,   3,   3,   3,   3,   3,   3,   3, 201,   3,   3,  30, 102,\n",
       "       102, 201, 111, 210,   3, 210,   3, 102,  12,   3,   3,  12,   3,\n",
       "       102,  21, 201, 102,   3, 102, 102,   3,   3, 102,   3, 102,   3,\n",
       "         3,   3,   3, 201,   3,   3, 201, 102,   3,   3,   3,  12,   3,\n",
       "       102,   3,   3,   3,  12, 102,   3, 102, 111, 120,   3, 300,   3,\n",
       "         3, 201, 102,   3, 201,   3, 102, 120,   3, 111, 300, 102, 300,\n",
       "       201,   3,  12,   3,  12,   3,   3, 300, 102,   3,  12,   3,   3,\n",
       "         3, 102,   3,   3,   3,   3,   3, 111,   3, 102, 102, 201, 300,\n",
       "         3,   3, 201,   3,   3, 102,   3, 102,   3, 300, 111,   3, 102,\n",
       "         3,   3, 102,   3,   3, 102,  12, 102,   3, 120,   3,   3,   3,\n",
       "        30, 102,   3,   3, 102,   3, 201,   3,   3, 102,   3, 120, 201,\n",
       "         3,   3,   3, 111, 102,  12,   3,   3,  21,  12,  30, 300, 210,\n",
       "         3,   3,   3, 210, 210,   3,   3,   3, 210,   3,   3,   3, 111,\n",
       "         3,   3,   3,   3,   3,   3,   3,   3,  30,   3, 300, 102,   3,\n",
       "         3,  12, 201, 102,   3,   3,   3,   3, 102,   3,   3,   3,   3,\n",
       "         3,   3,   3,   3,   3,   3,   3,   3,   3, 210,   3,   3,   3,\n",
       "         3, 111,   3,   3,   3,   3,   3,   3,   3,   3, 102,   3,  12,\n",
       "         3, 102,   3,   3,   3,   3,   3, 111,   3,   3,   3,   3,   3,\n",
       "         3,   3,   3,   3,   3,   3,   3,   3,   3,   3,   3,   3,   3,\n",
       "         3,   3,   3,   3,   3,   3,   3,   3,   3,   3, 102,   3,   3,\n",
       "         3,   3,   3, 102,   3, 210,   3,   3,   3,   3,  12,   3,  12,\n",
       "         3,   3,   3,   3,   3,   3, 102,   3,   3,   3,   3, 201,   3,\n",
       "         3,   3,   3, 201,   3,   3,   3,   3,   3,   3,   3,   3, 210,\n",
       "         3,   3,   3,   3,   3,   3,   3,   3,   3, 201, 210,   3, 102,\n",
       "         3,   3,   3,   3,   3,   3,   3,   3,   3, 210,   3,   3, 210,\n",
       "        12,   3,   3, 111,   3,   3,   3, 102,   3,   3, 201, 102, 111,\n",
       "         3, 201,   3,   3,   3,   3,   3, 102,   3,   3,  12,   3,   3,\n",
       "         3,   3,   3, 111,   3,   3,   3,   3,   3,   3,   3,   3,   3,\n",
       "         3,   3,   3,   3,   3,   3,   3,   3,   3,   3,   3,   3,   3,\n",
       "        21, 111,   3,   3,   3, 102, 201,   3,   3, 300, 102,   3,   3,\n",
       "       102, 111,   3,  12,   3,   3,   3,   3,   3,  12,   3,   3,   3,\n",
       "         3,   3,   3,   3,  21,   3, 111,   3,   3,   3,   3,   3,   3,\n",
       "         3,   3,  12,   3,   3, 111,  12,   3,   3,   3,   3,   3,   3,\n",
       "         3,   3, 102,   3,   3,   3,   3,   3,   3,   3,   3,   3,   3,\n",
       "       102,   3,   3, 210,   3,   3, 102,   3,   3,   3,  12,   3,   3,\n",
       "         3,   3,   3,   3, 201,   3, 201,   3,   3,   3, 111, 201,   3,\n",
       "         3,   3, 102,   3, 300,  12,   3,   3,   3, 111,   3,   3,   3,\n",
       "         3,   3, 102,  12,   3,   3, 102,   3,   3, 111,   3,   3, 102,\n",
       "         3,   3, 201,   3,   3,   3,   3,   3,   3,   3,   3,   3,  21,\n",
       "         3,   3,   3, 210, 120,   3,   3,   3, 102,  12,   3, 102,   3,\n",
       "       111,   3,   3,   3,   3,   3,   3,   3,   3,  12,   3,   3,   3,\n",
       "         3,   3,   3,   3,   3,   3,   3,   3,   3,   3, 102,   3,   3,\n",
       "         3,   3,   3,   3,   3,   3,   3,   3, 102, 210, 102,   3,   3,\n",
       "         3, 201,  12,   3, 300,   3,   3,   3, 102,   3,   3, 102, 102,\n",
       "         3,   3,   3,   3,   3,   3,  12, 102])"
      ]
     },
     "execution_count": 145,
     "metadata": {},
     "output_type": "execute_result"
    }
   ],
   "source": [
    "res"
   ]
  },
  {
   "cell_type": "code",
   "execution_count": 151,
   "metadata": {},
   "outputs": [],
   "source": [
    "Allmerge=np.where(res==300)[0]\n",
    "Allongo=np.where(res==30)[0]\n",
    "Allno=np.where(res==3)[0]\n",
    "twomerge=np.where(res>=200)[0]"
   ]
  },
  {
   "cell_type": "code",
   "execution_count": 174,
   "metadata": {},
   "outputs": [
    {
     "data": {
      "text/plain": [
       "(19, 70, 498)"
      ]
     },
     "execution_count": 174,
     "metadata": {},
     "output_type": "execute_result"
    }
   ],
   "source": [
    "len(Allmerge),len(twomerge),len(Allno)"
   ]
  },
  {
   "cell_type": "code",
   "execution_count": 167,
   "metadata": {},
   "outputs": [],
   "source": [
    "X=['No merger','On-going merger','post-merger']\n",
    "X1=[1,3,5]\n",
    "X2=[1.5,3.5,5.5]\n",
    "X3=[2,4,6]"
   ]
  },
  {
   "cell_type": "code",
   "execution_count": 173,
   "metadata": {},
   "outputs": [
    {
     "data": {
      "image/png": "[encoded data removed]",
      "text/plain": [
       "<Figure size 720x576 with 1 Axes>"
      ]
     },
     "metadata": {
      "needs_background": "light"
     },
     "output_type": "display_data"
    }
   ],
   "source": [
    "plt.figure(figsize=(10,8))\n",
    "plt.bar(X1,[len(np.where(KBC2==1)[0]),len(np.where(KBC2==10)[0]),len(np.where(KBC2==100)[0])],width=0.5,color='red',label='BC. Koh')\n",
    "plt.bar(X2,[len(np.where(KSH2==1)[0]),len(np.where(KSH2==10)[0]),len(np.where(KSH2==100)[0])],width=0.5,color='green',label='SH. Kim')\n",
    "plt.bar(X3,[len(np.where(JSH2==1)[0]),len(np.where(JSH2==10)[0]),len(np.where(JSH2==100)[0])],width=0.5,color='blue',label='SH. Jang')\n",
    "plt.legend(fontsize=14)\n",
    "plt.xticks(X2,X,fontsize=14)\n",
    "plt.show()"
   ]
  },
  {
   "cell_type": "code",
   "execution_count": 177,
   "metadata": {},
   "outputs": [
    {
     "data": {
      "text/plain": [
       "522"
      ]
     },
     "execution_count": 177,
     "metadata": {},
     "output_type": "execute_result"
    }
   ],
   "source": [
    "concord=len(Allmerge)+len(Allongo)+len(Allno)\n",
    "concord"
   ]
  },
  {
   "cell_type": "code",
   "execution_count": 186,
   "metadata": {},
   "outputs": [
    {
     "data": {
      "text/plain": [
       "array([ 34,  48,  52,  72,  95, 129, 138, 140, 206, 218, 220, 228, 246,\n",
       "       256, 297, 322, 529, 615, 706])"
      ]
     },
     "execution_count": 186,
     "metadata": {},
     "output_type": "execute_result"
    }
   ],
   "source": [
    "Allmerge"
   ]
  },
  {
   "cell_type": "code",
   "execution_count": 189,
   "metadata": {},
   "outputs": [
    {
     "data": {
      "text/plain": [
       "array([ 26, 154, 273, 296, 320])"
      ]
     },
     "execution_count": 189,
     "metadata": {},
     "output_type": "execute_result"
    }
   ],
   "source": [
    "Allongo"
   ]
  },
  {
   "cell_type": "code",
   "execution_count": 188,
   "metadata": {},
   "outputs": [
    {
     "data": {
      "text/plain": [
       "13"
      ]
     },
     "execution_count": 188,
     "metadata": {},
     "output_type": "execute_result"
    }
   ],
   "source": [
    "138-125"
   ]
  },
  {
   "cell_type": "code",
   "execution_count": 185,
   "metadata": {},
   "outputs": [
    {
     "data": {
      "text/plain": [
       "(70, 19)"
      ]
     },
     "execution_count": 185,
     "metadata": {},
     "output_type": "execute_result"
    }
   ],
   "source": [
    "len(twomerge),len(Allmerge)"
   ]
  },
  {
   "cell_type": "code",
   "execution_count": 182,
   "metadata": {},
   "outputs": [
    {
     "data": {
      "image/png": "[encoded data removed]",
      "text/plain": [
       "<Figure size 576x360 with 1 Axes>"
      ]
     },
     "metadata": {
      "needs_background": "light"
     },
     "output_type": "display_data"
    }
   ],
   "source": [
    "plt.figure(figsize=(8,5))\n",
    "plt.bar(X,[len(Allno)/concord,len(Allongo)/concord,len(Allmerge)/concord],width=0.5,color='blue')\n",
    "plt.title('result',fontsize=15)\n",
    "# plt.legend(fontsize=14)\n",
    "plt.show()"
   ]
  }
 ],
 "metadata": {
  "kernelspec": {
   "display_name": "Python 3.9.12 ('base')",
   "language": "python",
   "name": "python3"
  },
  "language_info": {
   "codemirror_mode": {
    "name": "ipython",
    "version": 3
   },
   "file_extension": ".py",
   "mimetype": "text/x-python",
   "name": "python",
   "nbconvert_exporter": "python",
   "pygments_lexer": "ipython3",
   "version": "3.9.12"
  },
  "orig_nbformat": 4,
  "vscode": {
   "interpreter": {
    "hash": "de7c8584ae51fbb089eecc0d6f203cc3cae3114d5c45556091d2c5b63465aa84"
   }
  }
 },
 "nbformat": 4,
 "nbformat_minor": 2
}
