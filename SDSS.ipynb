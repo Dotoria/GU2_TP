{
 "cells": [
  {
   "cell_type": "code",
   "execution_count": null,
   "metadata": {},
   "outputs": [],
   "source": [
    "# SDSS DR16"
   ]
  },
  {
   "cell_type": "code",
   "execution_count": null,
   "metadata": {},
   "outputs": [],
   "source": [
    "import numpy as np\n",
    "import matplotlib.pyplot as plt\n",
    "from scipy.optimize import curve_fit\n",
    "from astropy.cosmology import WMAP9 as cosmo"
   ]
  },
  {
   "cell_type": "code",
   "execution_count": null,
   "metadata": {},
   "outputs": [],
   "source": [
    "d = np.genfromtxt('GU2_HW6.csv', dtype='str', delimiter=',')\n",
    "print(d[0])\n",
    "dtype = [((d[0][i]), '<f8') for i in range(len(d[0]))]\n",
    "data0 = np.genfromtxt('GU2_HW6.csv', dtype=dtype, delimiter=',', skip_header=1)"
   ]
  },
  {
   "cell_type": "code",
   "execution_count": null,
   "metadata": {},
   "outputs": [],
   "source": [
    "# Cutting\n",
    "cri0 = data0['ra'] > 0\n",
    "cri1 = data0['z'] > 0\n",
    "\n",
    "cri = cri0 & cri1\n",
    "data = data0[cri]"
   ]
  }
 ],
 "metadata": {
  "language_info": {
   "name": "python"
  },
  "orig_nbformat": 4
 },
 "nbformat": 4,
 "nbformat_minor": 2
}
